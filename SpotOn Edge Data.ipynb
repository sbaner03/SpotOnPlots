{
 "cells": [
  {
   "cell_type": "code",
   "execution_count": 1,
   "metadata": {},
   "outputs": [],
   "source": [
    "import pandas as pd\n",
    "import numpy as np\n",
    "from datetime import datetime,timedelta,date\n",
    "import plotly.plotly as py\n",
    "import plotly.graph_objs as go\n",
    "from itertools import product\n",
    "import plotly.figure_factory as ff\n",
    "import ast"
   ]
  },
  {
   "cell_type": "code",
   "execution_count": 2,
   "metadata": {
    "collapsed": true
   },
   "outputs": [],
   "source": [
    "edges = pd.read_csv('checkedge.csv')"
   ]
  },
  {
   "cell_type": "code",
   "execution_count": 3,
   "metadata": {},
   "outputs": [],
   "source": [
    "edges = edges.rename(columns = {'Jul-15 to Aug08': 'CurrMonth'})\n",
    "col = 'CurrMonth'"
   ]
  },
  {
   "cell_type": "code",
   "execution_count": 4,
   "metadata": {},
   "outputs": [],
   "source": [
    "series = pd.Series([ast.literal_eval(i) for i in edges['areabrkup']])\n",
    "srdf= pd.DataFrame(series, columns = ['AreaSplit'])\n",
    "edges = edges.merge(srdf, left_index=True, right_index=True)"
   ]
  },
  {
   "cell_type": "code",
   "execution_count": 5,
   "metadata": {},
   "outputs": [],
   "source": [
    "def printheatmap (areadict):\n",
    "    heatmapdf = pd.DataFrame([[None,None,None]], columns=['OrgArea','DestArea','Wt'])\n",
    "    for count, keys in enumerate(list(areadict.keys())):\n",
    "        datalist = []\n",
    "        hmdict = areadict.get(keys)[0]\n",
    "        hmdf = pd.DataFrame.from_dict(hmdict, orient='index', dtype=None)\n",
    "        hmdf = hmdf.reset_index()\n",
    "        hmdf.columns = ['Area','Wt']\n",
    "        hmdf['OrgArea'] = hmdf.apply(lambda x: x['Area'].split('-')[0],axis=1)\n",
    "        hmdf['DestArea'] = hmdf.apply(lambda x: x['Area'].split('-')[1],axis=1)\n",
    "        hmdf = hmdf[heatmapdf.columns]\n",
    "        heatmapdf = heatmapdf.append(hmdf)\n",
    "    heatmapdf = heatmapdf.dropna()\n",
    "    heatmappivot = heatmapdf.pivot_table(index = 'OrgArea', values = 'Wt', columns = 'DestArea', aggfunc = pd.np.sum)\n",
    "    heatmappivot = heatmappivot.fillna(0.0).T\n",
    "    x = list(heatmappivot.columns)\n",
    "    y = list(heatmappivot.index)\n",
    "    z = heatmappivot.values\n",
    "    z_text = np.around(z,decimals=1)\n",
    "    xaxis = {'dtick': 1,'gridcolor': 'rgb(0, 0, 0)','side': 'bottom','ticks': ''}\n",
    "    heatmapfig = ff.create_annotated_heatmap(z, x=x, y=y, annotation_text=z_text, colorscale='Viridis')\n",
    "    for i in range(len(heatmapfig.layout.annotations)):\n",
    "        heatmapfig.layout.annotations[i].font.size = 8\n",
    "    heatmapfig.layout.title = 'Load Table in Mt - XAxis OrgArea YAxis DestArea'\n",
    "    heatmapfig.layout.xaxis = xaxis\n",
    "    return heatmapfig\n",
    "\n"
   ]
  },
  {
   "cell_type": "code",
   "execution_count": 6,
   "metadata": {},
   "outputs": [],
   "source": [
    "def printfigs (orglist,destlist):    \n",
    "    reporttitle = 'Linehaul Edge Data'\n",
    "    runlist = [i for i in product(orglist,destlist)]\n",
    "    datalist = []\n",
    "    areadict = {}\n",
    "    for i in runlist:\n",
    "        org = i[0]\n",
    "        dest = i[1]\n",
    "        try:\n",
    "            fl= edges[(edges['Origin']==org)&(edges['Destn']==dest)]\n",
    "            bl= edges[(edges['Origin']==dest)&(edges['Destn']==org)]\n",
    "            for df in [fl,bl]:\n",
    "                org = (list(df['Origin'])[0])\n",
    "                dest = (list(df['Destn'])[0])\n",
    "                ydata = (list(df[col])[0])\n",
    "                var = (list(df['Var'])[0])\n",
    "                areasplit = list(df['AreaSplit'].values)\n",
    "                areadict.update({(org,dest): areasplit})\n",
    "                trace = go.Bar(\n",
    "                x = '{0}-{1}'.format(org,dest),\n",
    "                y = ydata,\n",
    "                text = 'Edge: {0}, Var: {1}'.format(ydata,var),\n",
    "                textposition='bottom',\n",
    "                name = '{0}-{1}'.format(org,dest)\n",
    "                )\n",
    "                datalist.append(trace)\n",
    "        except:\n",
    "            pass\n",
    "    layout = go.Layout(\n",
    "        title=reporttitle,\n",
    "        barmode='stack'\n",
    "    )\n",
    "    fig = go.Figure(data=datalist, layout=layout)\n",
    "    heatmapfig = printheatmap(areadict)\n",
    "    return fig,heatmapfig\n",
    "        \n",
    "    "
   ]
  },
  {
   "cell_type": "code",
   "execution_count": 7,
   "metadata": {},
   "outputs": [
    {
     "data": {
      "text/html": [
       "<iframe id=\"igraph\" scrolling=\"no\" style=\"border:none;\" seamless=\"seamless\" src=\"https://plot.ly/~sbaner03/71.embed\" height=\"525px\" width=\"100%\"></iframe>"
      ],
      "text/plain": [
       "<plotly.tools.PlotlyDisplay object>"
      ]
     },
     "execution_count": 7,
     "metadata": {},
     "output_type": "execute_result"
    }
   ],
   "source": [
    "fig,heatmapfig = printfigs(['BOMH'],['AMCH','DELH','IDRH'])\n",
    "py.iplot(fig, filename='stacked-bar')"
   ]
  },
  {
   "cell_type": "code",
   "execution_count": 8,
   "metadata": {},
   "outputs": [
    {
     "data": {
      "text/html": [
       "<iframe id=\"igraph\" scrolling=\"no\" style=\"border:none;\" seamless=\"seamless\" src=\"https://plot.ly/~sbaner03/290.embed\" height=\"525px\" width=\"100%\"></iframe>"
      ],
      "text/plain": [
       "<plotly.tools.PlotlyDisplay object>"
      ]
     },
     "execution_count": 8,
     "metadata": {},
     "output_type": "execute_result"
    }
   ],
   "source": [
    "py.iplot(heatmapfig, filename='heatmap')"
   ]
  },
  {
   "cell_type": "code",
   "execution_count": null,
   "metadata": {
    "collapsed": true
   },
   "outputs": [],
   "source": []
  }
 ],
 "metadata": {
  "kernelspec": {
   "display_name": "Python 3",
   "language": "python",
   "name": "python3"
  },
  "language_info": {
   "codemirror_mode": {
    "name": "ipython",
    "version": 3
   },
   "file_extension": ".py",
   "mimetype": "text/x-python",
   "name": "python",
   "nbconvert_exporter": "python",
   "pygments_lexer": "ipython3",
   "version": "3.6.0"
  }
 },
 "nbformat": 4,
 "nbformat_minor": 2
}
