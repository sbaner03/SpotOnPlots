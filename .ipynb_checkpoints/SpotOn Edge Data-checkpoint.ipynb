{
 "cells": [
  {
   "cell_type": "code",
   "execution_count": null,
   "metadata": {
    "collapsed": true
   },
   "outputs": [],
   "source": [
    "import pandas as pd\n",
    "import numpy as np\n",
    "from datetime import datetime,timedelta,date\n",
    "import plotly.plotly as py\n",
    "import plotly.graph_objs as go\n",
    "from itertools import product\n",
    "import plotly.figure_factory as ff\n",
    "import ast"
   ]
  },
  {
   "cell_type": "code",
   "execution_count": null,
   "metadata": {
    "collapsed": true
   },
   "outputs": [],
   "source": [
    "edges = pd.read_csv('checkedge.csv')"
   ]
  },
  {
   "cell_type": "code",
   "execution_count": null,
   "metadata": {},
   "outputs": [],
   "source": [
    "series = pd.Series([ast.literal_eval(i) for i in edges['areabrkup']])\n",
    "srdf= pd.DataFrame(series, columns = ['AreaSplit'])\n",
    "edges = edges.merge(srdf, left_index=True, right_index=True)\n",
    "edges.head()"
   ]
  },
  {
   "cell_type": "code",
   "execution_count": null,
   "metadata": {},
   "outputs": [],
   "source": [
    "def printfigs (orglist,destlist):    \n",
    "    reporttitle = 'Jul-15 to Aug08'\n",
    "    runlist = [i for i in product(orglist,destlist)]\n",
    "    datalist = []\n",
    "    for i in runlist:\n",
    "        org = i[0]\n",
    "        dest = i[1]\n",
    "        try:\n",
    "            fl= edges[(edges['Origin']==org)&(edges['Destn']==dest)]\n",
    "            bl= edges[(edges['Origin']==dest)&(edges['Destn']==org)]\n",
    "            for df in [fl,bl]:\n",
    "                print (df.head())\n",
    "                org = (list(df['Origin'])[0])\n",
    "                dest = (list(df['Destn'])[0])\n",
    "                ydata = (list(df['Jul-15 to Aug08'])[0])\n",
    "                var = (list(df['Var'])[0])\n",
    "                trace = go.Bar(\n",
    "                x = '{0}-{1}'.format(org,dest),\n",
    "                y = ydata,\n",
    "                text = 'Edge: {0}, Var: {1}'.format(ydata,var),\n",
    "                textposition='bottom',\n",
    "                name = '{0}-{1}'.format(org,dest)\n",
    "                )\n",
    "                datalist.append(trace)\n",
    "        except:\n",
    "            pass\n",
    "    layout = go.Layout(\n",
    "        title=reporttitle,\n",
    "        barmode='stack'\n",
    "    )\n",
    "    fig = go.Figure(data=datalist, layout=layout)\n",
    "    return fig\n",
    "        \n",
    "    "
   ]
  },
  {
   "cell_type": "code",
   "execution_count": null,
   "metadata": {},
   "outputs": [],
   "source": [
    "fig = printfigs(['DELH'],['HYDH'])\n",
    "#py.iplot(fig, filename='stacked-bar')"
   ]
  },
  {
   "cell_type": "code",
   "execution_count": null,
   "metadata": {},
   "outputs": [],
   "source": [
    "a = edges[(edges['Origin']=='DELH')&(edges['Destn']=='HYDH')]"
   ]
  },
  {
   "cell_type": "code",
   "execution_count": null,
   "metadata": {},
   "outputs": [],
   "source": [
    "printfigs(['DELH'],['HYDH'])"
   ]
  },
  {
   "cell_type": "code",
   "execution_count": null,
   "metadata": {},
   "outputs": [],
   "source": []
  },
  {
   "cell_type": "code",
   "execution_count": null,
   "metadata": {},
   "outputs": [],
   "source": []
  },
  {
   "cell_type": "code",
   "execution_count": null,
   "metadata": {
    "collapsed": true
   },
   "outputs": [],
   "source": []
  }
 ],
 "metadata": {
  "kernelspec": {
   "display_name": "Python 3",
   "language": "python",
   "name": "python3"
  },
  "language_info": {
   "codemirror_mode": {
    "name": "ipython",
    "version": 3
   },
   "file_extension": ".py",
   "mimetype": "text/x-python",
   "name": "python",
   "nbconvert_exporter": "python",
   "pygments_lexer": "ipython3",
   "version": "3.6.0"
  }
 },
 "nbformat": 4,
 "nbformat_minor": 2
}
