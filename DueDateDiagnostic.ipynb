{
 "cells": [
  {
   "cell_type": "code",
   "execution_count": 1,
   "metadata": {
    "collapsed": true
   },
   "outputs": [],
   "source": [
    "import pandas as pd\n",
    "import numpy as np\n",
    "from datetime import datetime,timedelta,date\n",
    "import plotly.plotly as py\n",
    "import plotly.graph_objs as go\n",
    "from itertools import product\n",
    "import plotly.figure_factory as ff"
   ]
  },
  {
   "cell_type": "code",
   "execution_count": 2,
   "metadata": {
    "collapsed": true
   },
   "outputs": [],
   "source": [
    "dd = pd.read_csv('duedatediag.csv')\n",
    "dd = dd.rename( columns={\"DOCKNO\": \"Failed\", \"TOTAL\": \"Total\"})\n",
    "dd['Org'] = dd.apply(lambda x: x['specific_pt'].split('-')[0],axis=1)\n",
    "dd['Dest'] = dd.apply(lambda x: x['specific_pt'].split('-')[1],axis=1)\n",
    "virtuallocs = ['AMCF','AMDO','BBIB','BDQB','IXGF','BLRF','BWDB','BRGO','CCC','CJBC','DELO','GZBB','HYDO','IDRB','JAIC','JLRB','KNB','LKOB','MAAC','NAGB','PLGB','PNQO','PNQK','RPRB','SMBF','SNRB','VPIB','VGAF','SLMF','BHOB']\n",
    "dd['Reason'] = dd.apply(lambda x: 'Virtual' if x['Org'] in virtuallocs or x['Dest'] in virtuallocs else x['Reason'], axis=1)\n",
    "dd['Date'] = dd.apply(lambda x: datetime.strptime(x['Timestamp'],\"%d/%m/%y\"),axis=1)"
   ]
  },
  {
   "cell_type": "code",
   "execution_count": 3,
   "metadata": {},
   "outputs": [],
   "source": [
    "loclist = list(dd['Org'].unique())+list(dd['Dest'].unique())\n",
    "###colormapping to be done here"
   ]
  },
  {
   "cell_type": "code",
   "execution_count": 4,
   "metadata": {},
   "outputs": [],
   "source": [
    "def printfigs(df,reason,threshold,startdate=None,enddate=None):\n",
    "    if not startdate:\n",
    "        startdate = min(dd['Date'])\n",
    "    else:\n",
    "        startdate = datetime.strptime(startdate,'%d-%m-%Y')\n",
    "    if not enddate:\n",
    "        enddate = max(dd['Date'])\n",
    "    else:\n",
    "        enddate = datetime.strptime(enddate,'%d-%m-%Y')\n",
    "    df = df[(df['Date']>=startdate)&(df['Date']<=enddate)]\n",
    "    data = []\n",
    "    \n",
    "    df = df[df['Reason']==reason]\n",
    "    pivot = df.pivot_table(index = ['specific_pt','Org'], values = ['Total','Failed'], aggfunc=np.sum).reset_index()\n",
    "    pivot['Perc'] = pivot.apply(lambda x: np.round(x['Failed']*100.0/x['Total'],2),axis=1)\n",
    "    finalperc = np.round(pivot['Failed'].sum()*100.0/pivot['Total'].sum(),2)\n",
    "    total = pivot['Total'].sum()\n",
    "    pivot = pivot[pivot['Total']>=threshold]\n",
    "    for counter, org in enumerate(pivot['Org'].unique()):\n",
    "        if reason == 'Virtual' and org in virtuallocs:\n",
    "            markerdata = dict(size = 10,color = 'rgba(255, 182, 193, .9)')\n",
    "        elif reason == 'Virtual':\n",
    "            markerdata = dict(size = 10,color = 'rgba(27, 224, 68, 0.7)')\n",
    "        else:\n",
    "            markerdata = dict(size = 10) ### map the regioncode here later\n",
    "        \n",
    "            \n",
    "        trace = go.Scatter(\n",
    "            x = pivot[pivot['Org']==org]['Failed'],\n",
    "            y = pivot[pivot['Org']==org]['Perc'],\n",
    "            name = org,\n",
    "            mode = 'markers',\n",
    "            marker = markerdata,\n",
    "            ### the color should be linked to the org's region for location\n",
    "            text= pivot[pivot['Org']==org]['specific_pt']\n",
    "            )\n",
    "        data.append(trace)\n",
    "\n",
    "\n",
    "    layout = dict(title = '{0} failure {1}% out of {2} cons'.format(reason,np.round(finalperc,0),total),\n",
    "                  yaxis = dict(zeroline = False),\n",
    "                  xaxis = dict(zeroline = False)\n",
    "                 )\n",
    "\n",
    "    fig = dict(data=data, layout=layout)\n",
    "    return fig"
   ]
  },
  {
   "cell_type": "code",
   "execution_count": 5,
   "metadata": {},
   "outputs": [
    {
     "data": {
      "text/html": [
       "<iframe id=\"igraph\" scrolling=\"no\" style=\"border:none;\" seamless=\"seamless\" src=\"https://plot.ly/~sbaner03/158.embed\" height=\"525px\" width=\"100%\"></iframe>"
      ],
      "text/plain": [
       "<plotly.tools.PlotlyDisplay object>"
      ]
     },
     "execution_count": 5,
     "metadata": {},
     "output_type": "execute_result"
    }
   ],
   "source": [
    "py.iplot(printfigs(dd,'Location',17,'01-08-2017'))"
   ]
  },
  {
   "cell_type": "code",
   "execution_count": null,
   "metadata": {
    "collapsed": true
   },
   "outputs": [],
   "source": []
  }
 ],
 "metadata": {
  "kernelspec": {
   "display_name": "Python 3",
   "language": "python",
   "name": "python3"
  },
  "language_info": {
   "codemirror_mode": {
    "name": "ipython",
    "version": 3
   },
   "file_extension": ".py",
   "mimetype": "text/x-python",
   "name": "python",
   "nbconvert_exporter": "python",
   "pygments_lexer": "ipython3",
   "version": "3.6.0"
  }
 },
 "nbformat": 4,
 "nbformat_minor": 2
}
